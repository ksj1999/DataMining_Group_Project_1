{
  "cells": [
    {
      "cell_type": "markdown",
      "metadata": {
        "id": "view-in-github",
        "colab_type": "text"
      },
      "source": [
        "<a href=\"https://colab.research.google.com/github/ksj1999/DataMining_Group_Project_1/blob/main/GP1_B.ipynb\" target=\"_parent\"><img src=\"https://colab.research.google.com/assets/colab-badge.svg\" alt=\"Open In Colab\"/></a>"
      ]
    },
    {
      "cell_type": "markdown",
      "id": "96d99056",
      "metadata": {
        "id": "96d99056"
      },
      "source": [
        "# Preparing Dataset & Library"
      ]
    },
    {
      "cell_type": "code",
      "execution_count": null,
      "id": "d3397bb9",
      "metadata": {
        "id": "d3397bb9",
        "outputId": "0eaaee8d-d13e-480e-f6a6-cf8c920e0661"
      },
      "outputs": [
        {
          "name": "stdout",
          "output_type": "stream",
          "text": [
            "Collecting statsmodels\n",
            "  Downloading statsmodels-0.14.1-cp38-cp38-win_amd64.whl (10.0 MB)\n",
            "Requirement already satisfied: numpy<2,>=1.18 in c:\\users\\kwon\\appdata\\local\\programs\\python\\python38\\lib\\site-packages (from statsmodels) (1.24.4)\n",
            "Requirement already satisfied: packaging>=21.3 in c:\\users\\kwon\\appdata\\roaming\\python\\python38\\site-packages (from statsmodels) (24.1)\n",
            "Collecting patsy>=0.5.4\n",
            "  Downloading patsy-1.0.1-py2.py3-none-any.whl (232 kB)\n",
            "Requirement already satisfied: scipy!=1.9.2,>=1.4 in c:\\users\\kwon\\appdata\\local\\programs\\python\\python38\\lib\\site-packages (from statsmodels) (1.10.1)\n",
            "Requirement already satisfied: pandas!=2.1.0,>=1.0 in c:\\users\\kwon\\appdata\\local\\programs\\python\\python38\\lib\\site-packages (from statsmodels) (2.0.3)\n",
            "Requirement already satisfied: tzdata>=2022.1 in c:\\users\\kwon\\appdata\\local\\programs\\python\\python38\\lib\\site-packages (from pandas!=2.1.0,>=1.0->statsmodels) (2024.1)\n",
            "Requirement already satisfied: python-dateutil>=2.8.2 in c:\\users\\kwon\\appdata\\roaming\\python\\python38\\site-packages (from pandas!=2.1.0,>=1.0->statsmodels) (2.9.0.post0)\n",
            "Requirement already satisfied: pytz>=2020.1 in c:\\users\\kwon\\appdata\\local\\programs\\python\\python38\\lib\\site-packages (from pandas!=2.1.0,>=1.0->statsmodels) (2024.1)\n",
            "Requirement already satisfied: six>=1.5 in c:\\users\\kwon\\appdata\\roaming\\python\\python38\\site-packages (from python-dateutil>=2.8.2->pandas!=2.1.0,>=1.0->statsmodels) (1.16.0)\n",
            "Installing collected packages: patsy, statsmodels\n",
            "Successfully installed patsy-1.0.1 statsmodels-0.14.1\n"
          ]
        },
        {
          "name": "stderr",
          "output_type": "stream",
          "text": [
            "WARNING: Ignoring invalid distribution -illow (c:\\users\\kwon\\appdata\\local\\programs\\python\\python38\\lib\\site-packages)\n",
            "WARNING: Ignoring invalid distribution -illow (c:\\users\\kwon\\appdata\\local\\programs\\python\\python38\\lib\\site-packages)\n",
            "WARNING: Ignoring invalid distribution -illow (c:\\users\\kwon\\appdata\\local\\programs\\python\\python38\\lib\\site-packages)\n",
            "WARNING: Ignoring invalid distribution -illow (c:\\users\\kwon\\appdata\\local\\programs\\python\\python38\\lib\\site-packages)\n",
            "WARNING: Ignoring invalid distribution -illow (c:\\users\\kwon\\appdata\\local\\programs\\python\\python38\\lib\\site-packages)\n",
            "WARNING: Ignoring invalid distribution -illow (c:\\users\\kwon\\appdata\\local\\programs\\python\\python38\\lib\\site-packages)\n",
            "WARNING: Ignoring invalid distribution -illow (c:\\users\\kwon\\appdata\\local\\programs\\python\\python38\\lib\\site-packages)\n",
            "WARNING: Ignoring invalid distribution -illow (c:\\users\\kwon\\appdata\\local\\programs\\python\\python38\\lib\\site-packages)\n",
            "WARNING: You are using pip version 21.1.1; however, version 25.0.1 is available.\n",
            "You should consider upgrading via the 'c:\\users\\kwon\\appdata\\local\\programs\\python\\python38\\python.exe -m pip install --upgrade pip' command.\n"
          ]
        }
      ],
      "source": [
        "# !pip install statsmodels"
      ]
    },
    {
      "cell_type": "code",
      "execution_count": null,
      "id": "2a0b9670",
      "metadata": {
        "id": "2a0b9670"
      },
      "outputs": [],
      "source": [
        "import statsmodels.api as sm\n",
        "import pandas as pd\n",
        "import numpy as np"
      ]
    },
    {
      "cell_type": "markdown",
      "id": "34ae8162",
      "metadata": {
        "id": "34ae8162"
      },
      "source": [
        "### Clean column names"
      ]
    },
    {
      "cell_type": "code",
      "execution_count": null,
      "id": "b14a1e96",
      "metadata": {
        "id": "b14a1e96",
        "outputId": "b1a7dbb3-f034-4587-a96f-420f793d1ec9"
      },
      "outputs": [
        {
          "data": {
            "text/html": [
              "<div>\n",
              "<style scoped>\n",
              "    .dataframe tbody tr th:only-of-type {\n",
              "        vertical-align: middle;\n",
              "    }\n",
              "\n",
              "    .dataframe tbody tr th {\n",
              "        vertical-align: top;\n",
              "    }\n",
              "\n",
              "    .dataframe thead th {\n",
              "        text-align: right;\n",
              "    }\n",
              "</style>\n",
              "<table border=\"1\" class=\"dataframe\">\n",
              "  <thead>\n",
              "    <tr style=\"text-align: right;\">\n",
              "      <th></th>\n",
              "      <th>Cement</th>\n",
              "      <th>Blast Furnace Slag</th>\n",
              "      <th>Fly Ash</th>\n",
              "      <th>Water</th>\n",
              "      <th>Superplasticizer</th>\n",
              "      <th>Coarse Aggregate</th>\n",
              "      <th>Fine Aggregate</th>\n",
              "      <th>Age</th>\n",
              "      <th>Concrete compressive strength</th>\n",
              "    </tr>\n",
              "  </thead>\n",
              "  <tbody>\n",
              "    <tr>\n",
              "      <th>0</th>\n",
              "      <td>540.0</td>\n",
              "      <td>0.0</td>\n",
              "      <td>0.0</td>\n",
              "      <td>162.0</td>\n",
              "      <td>2.5</td>\n",
              "      <td>1040.0</td>\n",
              "      <td>676.0</td>\n",
              "      <td>28</td>\n",
              "      <td>79.99</td>\n",
              "    </tr>\n",
              "    <tr>\n",
              "      <th>1</th>\n",
              "      <td>540.0</td>\n",
              "      <td>0.0</td>\n",
              "      <td>0.0</td>\n",
              "      <td>162.0</td>\n",
              "      <td>2.5</td>\n",
              "      <td>1055.0</td>\n",
              "      <td>676.0</td>\n",
              "      <td>28</td>\n",
              "      <td>61.89</td>\n",
              "    </tr>\n",
              "    <tr>\n",
              "      <th>2</th>\n",
              "      <td>332.5</td>\n",
              "      <td>142.5</td>\n",
              "      <td>0.0</td>\n",
              "      <td>228.0</td>\n",
              "      <td>0.0</td>\n",
              "      <td>932.0</td>\n",
              "      <td>594.0</td>\n",
              "      <td>270</td>\n",
              "      <td>40.27</td>\n",
              "    </tr>\n",
              "    <tr>\n",
              "      <th>3</th>\n",
              "      <td>332.5</td>\n",
              "      <td>142.5</td>\n",
              "      <td>0.0</td>\n",
              "      <td>228.0</td>\n",
              "      <td>0.0</td>\n",
              "      <td>932.0</td>\n",
              "      <td>594.0</td>\n",
              "      <td>365</td>\n",
              "      <td>41.05</td>\n",
              "    </tr>\n",
              "    <tr>\n",
              "      <th>4</th>\n",
              "      <td>198.6</td>\n",
              "      <td>132.4</td>\n",
              "      <td>0.0</td>\n",
              "      <td>192.0</td>\n",
              "      <td>0.0</td>\n",
              "      <td>978.4</td>\n",
              "      <td>825.5</td>\n",
              "      <td>360</td>\n",
              "      <td>44.30</td>\n",
              "    </tr>\n",
              "  </tbody>\n",
              "</table>\n",
              "</div>"
            ],
            "text/plain": [
              "   Cement  Blast Furnace Slag  Fly Ash  Water  Superplasticizer  \\\n",
              "0   540.0                 0.0      0.0  162.0               2.5   \n",
              "1   540.0                 0.0      0.0  162.0               2.5   \n",
              "2   332.5               142.5      0.0  228.0               0.0   \n",
              "3   332.5               142.5      0.0  228.0               0.0   \n",
              "4   198.6               132.4      0.0  192.0               0.0   \n",
              "\n",
              "   Coarse Aggregate  Fine Aggregate  Age  Concrete compressive strength  \n",
              "0            1040.0           676.0   28                          79.99  \n",
              "1            1055.0           676.0   28                          61.89  \n",
              "2             932.0           594.0  270                          40.27  \n",
              "3             932.0           594.0  365                          41.05  \n",
              "4             978.4           825.5  360                          44.30  "
            ]
          },
          "execution_count": 6,
          "metadata": {},
          "output_type": "execute_result"
        }
      ],
      "source": [
        "concrete_df = pd.read_csv(\"Concrete_Data.csv\")\n",
        "concrete_df.columns = concrete_df.columns.str.split('(').str[0].str.strip()\n",
        "concrete_df.head()"
      ]
    },
    {
      "cell_type": "markdown",
      "id": "acedb3be",
      "metadata": {
        "id": "acedb3be"
      },
      "source": [
        "### Check for null"
      ]
    },
    {
      "cell_type": "code",
      "execution_count": null,
      "id": "b6c6d153",
      "metadata": {
        "id": "b6c6d153",
        "outputId": "c48d2396-7128-4bec-b607-b921d5bfe947"
      },
      "outputs": [
        {
          "data": {
            "text/plain": [
              "Cement                           0\n",
              "Blast Furnace Slag               0\n",
              "Fly Ash                          0\n",
              "Water                            0\n",
              "Superplasticizer                 0\n",
              "Coarse Aggregate                 0\n",
              "Fine Aggregate                   0\n",
              "Age                              0\n",
              "Concrete compressive strength    0\n",
              "dtype: int64"
            ]
          },
          "execution_count": 7,
          "metadata": {},
          "output_type": "execute_result"
        }
      ],
      "source": [
        "concrete_df.isna().sum()"
      ]
    },
    {
      "cell_type": "markdown",
      "id": "0361105d",
      "metadata": {
        "id": "0361105d"
      },
      "source": [
        "### Train Test Split"
      ]
    },
    {
      "cell_type": "code",
      "execution_count": null,
      "id": "a5ac6f99",
      "metadata": {
        "id": "a5ac6f99",
        "outputId": "ef921896-4507-429b-e1ea-fd47289a63bd"
      },
      "outputs": [
        {
          "name": "stdout",
          "output_type": "stream",
          "text": [
            "test sample size: 130      Cement  Blast Furnace Slag  Fly Ash  Water  Superplasticizer  \\\n",
            "501   491.0                26.0    123.0  210.0               3.9   \n",
            "502   491.0                26.0    123.0  210.0               3.9   \n",
            "503   491.0                26.0    123.0  210.0               3.9   \n",
            "504   491.0                26.0    123.0  201.0               3.9   \n",
            "505   491.0                26.0    123.0  201.0               3.9   \n",
            "\n",
            "     Coarse Aggregate  Fine Aggregate  Age  Concrete compressive strength  \n",
            "501             882.0           699.0    3                          25.61  \n",
            "502             882.0           699.0    7                          33.49  \n",
            "503             882.0           699.0   56                          59.59  \n",
            "504             822.0           699.0    3                          29.55  \n",
            "505             822.0           699.0    7                          37.92   \n",
            "\n",
            "\n",
            "train sample size: 900    Cement  Blast Furnace Slag  Fly Ash  Water  Superplasticizer  \\\n",
            "0   540.0                 0.0      0.0  162.0               2.5   \n",
            "1   540.0                 0.0      0.0  162.0               2.5   \n",
            "2   332.5               142.5      0.0  228.0               0.0   \n",
            "3   332.5               142.5      0.0  228.0               0.0   \n",
            "4   198.6               132.4      0.0  192.0               0.0   \n",
            "\n",
            "   Coarse Aggregate  Fine Aggregate  Age  Concrete compressive strength  \n",
            "0            1040.0           676.0   28                          79.99  \n",
            "1            1055.0           676.0   28                          61.89  \n",
            "2             932.0           594.0  270                          40.27  \n",
            "3             932.0           594.0  365                          41.05  \n",
            "4             978.4           825.5  360                          44.30  \n"
          ]
        }
      ],
      "source": [
        "concrete_df_test = concrete_df.iloc[501:631]\n",
        "print(f\"test sample size: {len(concrete_df_test)}\", concrete_df_test.head(), '\\n\\n')\n",
        "concrete_df_train = concrete_df.drop(concrete_df_test.index)\n",
        "print(f\"train sample size: {len(concrete_df_train)}\", concrete_df_train.head())"
      ]
    },
    {
      "cell_type": "markdown",
      "id": "9a92c850",
      "metadata": {
        "id": "9a92c850"
      },
      "source": [
        "### Define Standarize Function (MinMax)"
      ]
    },
    {
      "cell_type": "code",
      "execution_count": null,
      "id": "50af130e",
      "metadata": {
        "id": "50af130e"
      },
      "outputs": [],
      "source": [
        "def norm_data(df, train_df=None):\n",
        "  if train_df is not None:\n",
        "    return (df - train_df.min()) / (train_df.max() - train_df.min())\n",
        "  else:\n",
        "    return (df - df.min()) / (df.max() - df.min()).replace(0, 1)"
      ]
    },
    {
      "cell_type": "markdown",
      "id": "a23b231f",
      "metadata": {
        "id": "a23b231f"
      },
      "source": [
        "# Call multivariate linear regression"
      ]
    },
    {
      "cell_type": "code",
      "execution_count": null,
      "id": "f8ce338f",
      "metadata": {
        "id": "f8ce338f"
      },
      "outputs": [],
      "source": [
        "X_train_raw = concrete_df_train.drop(columns=[\"Concrete compressive strength\"])\n",
        "y_train_raw = concrete_df_train[\"Concrete compressive strength\"]\n",
        "\n",
        "\n",
        "X_test_raw = concrete_df_test.drop(columns=[\"Concrete compressive strength\"])\n",
        "y_test_raw = concrete_df_test[\"Concrete compressive strength\"]"
      ]
    },
    {
      "cell_type": "markdown",
      "id": "2475f82b",
      "metadata": {
        "id": "2475f82b"
      },
      "source": [
        "### Add Bias term"
      ]
    },
    {
      "cell_type": "code",
      "execution_count": null,
      "id": "e4190c30",
      "metadata": {
        "id": "e4190c30"
      },
      "outputs": [],
      "source": [
        "X_train_const = sm.add_constant(X_train_raw)\n",
        "X_test_const = sm.add_constant(X_test_raw)"
      ]
    },
    {
      "cell_type": "markdown",
      "id": "bdc9b3f1",
      "metadata": {
        "id": "bdc9b3f1"
      },
      "source": [
        "# Fit OLS"
      ]
    },
    {
      "cell_type": "code",
      "execution_count": null,
      "id": "4268778c",
      "metadata": {
        "id": "4268778c",
        "outputId": "681ba2a0-c658-4b20-a4a3-dfcc8b656881"
      },
      "outputs": [
        {
          "name": "stdout",
          "output_type": "stream",
          "text": [
            "                                  OLS Regression Results                                 \n",
            "=========================================================================================\n",
            "Dep. Variable:     Concrete compressive strength   R-squared:                       0.624\n",
            "Model:                                       OLS   Adj. R-squared:                  0.621\n",
            "Method:                            Least Squares   F-statistic:                     184.9\n",
            "Date:                           Sun, 12 Oct 2025   Prob (F-statistic):          1.80e-183\n",
            "Time:                                   17:06:47   Log-Likelihood:                -3367.7\n",
            "No. Observations:                            900   AIC:                             6753.\n",
            "Df Residuals:                                891   BIC:                             6797.\n",
            "Df Model:                                      8                                         \n",
            "Covariance Type:                       nonrobust                                         \n",
            "======================================================================================\n",
            "                         coef    std err          t      P>|t|      [0.025      0.975]\n",
            "--------------------------------------------------------------------------------------\n",
            "const                -52.0353     28.768     -1.809      0.071    -108.496       4.425\n",
            "Cement                 0.1328      0.009     14.096      0.000       0.114       0.151\n",
            "Blast Furnace Slag     0.1250      0.011     10.912      0.000       0.103       0.148\n",
            "Fly Ash                0.1067      0.014      7.471      0.000       0.079       0.135\n",
            "Water                 -0.1331      0.043     -3.112      0.002      -0.217      -0.049\n",
            "Superplasticizer       0.1162      0.100      1.161      0.246      -0.080       0.313\n",
            "Coarse Aggregate       0.0286      0.010      2.786      0.005       0.008       0.049\n",
            "Fine Aggregate         0.0341      0.011      3.004      0.003       0.012       0.056\n",
            "Age                    0.1188      0.006     19.992      0.000       0.107       0.130\n",
            "==============================================================================\n",
            "Omnibus:                       11.481   Durbin-Watson:                   1.244\n",
            "Prob(Omnibus):                  0.003   Jarque-Bera (JB):               11.682\n",
            "Skew:                          -0.250   Prob(JB):                      0.00291\n",
            "Kurtosis:                       3.248   Cond. No.                     1.09e+05\n",
            "==============================================================================\n",
            "\n",
            "Notes:\n",
            "[1] Standard Errors assume that the covariance matrix of the errors is correctly specified.\n",
            "[2] The condition number is large, 1.09e+05. This might indicate that there are\n",
            "strong multicollinearity or other numerical problems.\n"
          ]
        }
      ],
      "source": [
        "model = sm.OLS(y_train_raw, X_train_const)\n",
        "results = model.fit()\n",
        "\n",
        "print(results.summary())"
      ]
    },
    {
      "cell_type": "code",
      "execution_count": null,
      "id": "a816f640",
      "metadata": {
        "id": "a816f640"
      },
      "outputs": [],
      "source": [
        "y_pred = results.predict(X_test_const)\n",
        "\n",
        "from sklearn.metrics import mean_squared_error, r2_score\n",
        "print(\"Test MSE:\", mean_squared_error(targets_test, y_pred))\n",
        "print(\"Test R²:\", r2_score(targets_test, y_pred))"
      ]
    }
  ],
  "metadata": {
    "kernelspec": {
      "display_name": "Python 3",
      "language": "python",
      "name": "python3"
    },
    "language_info": {
      "codemirror_mode": {
        "name": "ipython",
        "version": 3
      },
      "file_extension": ".py",
      "mimetype": "text/x-python",
      "name": "python",
      "nbconvert_exporter": "python",
      "pygments_lexer": "ipython3",
      "version": "3.8.10"
    },
    "colab": {
      "provenance": [],
      "include_colab_link": true
    }
  },
  "nbformat": 4,
  "nbformat_minor": 5
}