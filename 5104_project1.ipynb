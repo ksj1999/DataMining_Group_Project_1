{
  "nbformat": 4,
  "nbformat_minor": 0,
  "metadata": {
    "colab": {
      "provenance": [],
      "include_colab_link": true
    },
    "kernelspec": {
      "name": "python3",
      "display_name": "Python 3"
    },
    "language_info": {
      "name": "python"
    }
  },
  "cells": [
    {
      "cell_type": "markdown",
      "metadata": {
        "id": "view-in-github",
        "colab_type": "text"
      },
      "source": [
        "<a href=\"https://colab.research.google.com/github/ksj1999/DataMining_Group_Project_1/blob/main/5104_project1.ipynb\" target=\"_parent\"><img src=\"https://colab.research.google.com/assets/colab-badge.svg\" alt=\"Open In Colab\"/></a>"
      ]
    },
    {
      "cell_type": "markdown",
      "source": [
        "# Import Data and library"
      ],
      "metadata": {
        "id": "V_unF8V-Zkmr"
      }
    },
    {
      "cell_type": "code",
      "execution_count": null,
      "metadata": {
        "colab": {
          "base_uri": "https://localhost:8080/"
        },
        "id": "yu0ZpsbD48EM",
        "outputId": "94af5f79-8565-4847-aaf9-b7bbefb1c4ec"
      },
      "outputs": [
        {
          "output_type": "stream",
          "name": "stdout",
          "text": [
            "Drive already mounted at /content/drive; to attempt to forcibly remount, call drive.mount(\"/content/drive\", force_remount=True).\n"
          ]
        }
      ],
      "source": [
        "import pandas as pd\n",
        "import numpy as np\n",
        "#google colab import\n",
        "import matplotlib.pyplot as plt\n",
        "\n",
        "from google.colab import drive\n",
        "drive.mount('/content/drive')\n",
        "seed = 42\n",
        "np.random.seed(seed)"
      ]
    },
    {
      "cell_type": "code",
      "source": [
        "concrete_df = pd.read_excel('/content/drive/MyDrive/FL25Courses/CSE5104/Concrete_Data.xls')\n",
        "concrete_df.columns = concrete_df.columns.str.split('(').str[0].str.strip()\n",
        "concrete_df.head()"
      ],
      "metadata": {
        "id": "vJStAbHN5lNE",
        "colab": {
          "base_uri": "https://localhost:8080/",
          "height": 204
        },
        "outputId": "dae0ad9e-9081-4478-8f1b-3de0f49d70e5"
      },
      "execution_count": null,
      "outputs": [
        {
          "output_type": "execute_result",
          "data": {
            "text/plain": [
              "   Cement  Blast Furnace Slag  Fly Ash  Water  Superplasticizer  \\\n",
              "0   540.0                 0.0      0.0  162.0               2.5   \n",
              "1   540.0                 0.0      0.0  162.0               2.5   \n",
              "2   332.5               142.5      0.0  228.0               0.0   \n",
              "3   332.5               142.5      0.0  228.0               0.0   \n",
              "4   198.6               132.4      0.0  192.0               0.0   \n",
              "\n",
              "   Coarse Aggregate  Fine Aggregate  Age  Concrete compressive strength  \n",
              "0            1040.0           676.0   28                      79.986111  \n",
              "1            1055.0           676.0   28                      61.887366  \n",
              "2             932.0           594.0  270                      40.269535  \n",
              "3             932.0           594.0  365                      41.052780  \n",
              "4             978.4           825.5  360                      44.296075  "
            ],
            "text/html": [
              "\n",
              "  <div id=\"df-dbc0949a-d6cf-41dd-8789-847f06970348\" class=\"colab-df-container\">\n",
              "    <div>\n",
              "<style scoped>\n",
              "    .dataframe tbody tr th:only-of-type {\n",
              "        vertical-align: middle;\n",
              "    }\n",
              "\n",
              "    .dataframe tbody tr th {\n",
              "        vertical-align: top;\n",
              "    }\n",
              "\n",
              "    .dataframe thead th {\n",
              "        text-align: right;\n",
              "    }\n",
              "</style>\n",
              "<table border=\"1\" class=\"dataframe\">\n",
              "  <thead>\n",
              "    <tr style=\"text-align: right;\">\n",
              "      <th></th>\n",
              "      <th>Cement</th>\n",
              "      <th>Blast Furnace Slag</th>\n",
              "      <th>Fly Ash</th>\n",
              "      <th>Water</th>\n",
              "      <th>Superplasticizer</th>\n",
              "      <th>Coarse Aggregate</th>\n",
              "      <th>Fine Aggregate</th>\n",
              "      <th>Age</th>\n",
              "      <th>Concrete compressive strength</th>\n",
              "    </tr>\n",
              "  </thead>\n",
              "  <tbody>\n",
              "    <tr>\n",
              "      <th>0</th>\n",
              "      <td>540.0</td>\n",
              "      <td>0.0</td>\n",
              "      <td>0.0</td>\n",
              "      <td>162.0</td>\n",
              "      <td>2.5</td>\n",
              "      <td>1040.0</td>\n",
              "      <td>676.0</td>\n",
              "      <td>28</td>\n",
              "      <td>79.986111</td>\n",
              "    </tr>\n",
              "    <tr>\n",
              "      <th>1</th>\n",
              "      <td>540.0</td>\n",
              "      <td>0.0</td>\n",
              "      <td>0.0</td>\n",
              "      <td>162.0</td>\n",
              "      <td>2.5</td>\n",
              "      <td>1055.0</td>\n",
              "      <td>676.0</td>\n",
              "      <td>28</td>\n",
              "      <td>61.887366</td>\n",
              "    </tr>\n",
              "    <tr>\n",
              "      <th>2</th>\n",
              "      <td>332.5</td>\n",
              "      <td>142.5</td>\n",
              "      <td>0.0</td>\n",
              "      <td>228.0</td>\n",
              "      <td>0.0</td>\n",
              "      <td>932.0</td>\n",
              "      <td>594.0</td>\n",
              "      <td>270</td>\n",
              "      <td>40.269535</td>\n",
              "    </tr>\n",
              "    <tr>\n",
              "      <th>3</th>\n",
              "      <td>332.5</td>\n",
              "      <td>142.5</td>\n",
              "      <td>0.0</td>\n",
              "      <td>228.0</td>\n",
              "      <td>0.0</td>\n",
              "      <td>932.0</td>\n",
              "      <td>594.0</td>\n",
              "      <td>365</td>\n",
              "      <td>41.052780</td>\n",
              "    </tr>\n",
              "    <tr>\n",
              "      <th>4</th>\n",
              "      <td>198.6</td>\n",
              "      <td>132.4</td>\n",
              "      <td>0.0</td>\n",
              "      <td>192.0</td>\n",
              "      <td>0.0</td>\n",
              "      <td>978.4</td>\n",
              "      <td>825.5</td>\n",
              "      <td>360</td>\n",
              "      <td>44.296075</td>\n",
              "    </tr>\n",
              "  </tbody>\n",
              "</table>\n",
              "</div>\n",
              "    <div class=\"colab-df-buttons\">\n",
              "\n",
              "  <div class=\"colab-df-container\">\n",
              "    <button class=\"colab-df-convert\" onclick=\"convertToInteractive('df-dbc0949a-d6cf-41dd-8789-847f06970348')\"\n",
              "            title=\"Convert this dataframe to an interactive table.\"\n",
              "            style=\"display:none;\">\n",
              "\n",
              "  <svg xmlns=\"http://www.w3.org/2000/svg\" height=\"24px\" viewBox=\"0 -960 960 960\">\n",
              "    <path d=\"M120-120v-720h720v720H120Zm60-500h600v-160H180v160Zm220 220h160v-160H400v160Zm0 220h160v-160H400v160ZM180-400h160v-160H180v160Zm440 0h160v-160H620v160ZM180-180h160v-160H180v160Zm440 0h160v-160H620v160Z\"/>\n",
              "  </svg>\n",
              "    </button>\n",
              "\n",
              "  <style>\n",
              "    .colab-df-container {\n",
              "      display:flex;\n",
              "      gap: 12px;\n",
              "    }\n",
              "\n",
              "    .colab-df-convert {\n",
              "      background-color: #E8F0FE;\n",
              "      border: none;\n",
              "      border-radius: 50%;\n",
              "      cursor: pointer;\n",
              "      display: none;\n",
              "      fill: #1967D2;\n",
              "      height: 32px;\n",
              "      padding: 0 0 0 0;\n",
              "      width: 32px;\n",
              "    }\n",
              "\n",
              "    .colab-df-convert:hover {\n",
              "      background-color: #E2EBFA;\n",
              "      box-shadow: 0px 1px 2px rgba(60, 64, 67, 0.3), 0px 1px 3px 1px rgba(60, 64, 67, 0.15);\n",
              "      fill: #174EA6;\n",
              "    }\n",
              "\n",
              "    .colab-df-buttons div {\n",
              "      margin-bottom: 4px;\n",
              "    }\n",
              "\n",
              "    [theme=dark] .colab-df-convert {\n",
              "      background-color: #3B4455;\n",
              "      fill: #D2E3FC;\n",
              "    }\n",
              "\n",
              "    [theme=dark] .colab-df-convert:hover {\n",
              "      background-color: #434B5C;\n",
              "      box-shadow: 0px 1px 3px 1px rgba(0, 0, 0, 0.15);\n",
              "      filter: drop-shadow(0px 1px 2px rgba(0, 0, 0, 0.3));\n",
              "      fill: #FFFFFF;\n",
              "    }\n",
              "  </style>\n",
              "\n",
              "    <script>\n",
              "      const buttonEl =\n",
              "        document.querySelector('#df-dbc0949a-d6cf-41dd-8789-847f06970348 button.colab-df-convert');\n",
              "      buttonEl.style.display =\n",
              "        google.colab.kernel.accessAllowed ? 'block' : 'none';\n",
              "\n",
              "      async function convertToInteractive(key) {\n",
              "        const element = document.querySelector('#df-dbc0949a-d6cf-41dd-8789-847f06970348');\n",
              "        const dataTable =\n",
              "          await google.colab.kernel.invokeFunction('convertToInteractive',\n",
              "                                                    [key], {});\n",
              "        if (!dataTable) return;\n",
              "\n",
              "        const docLinkHtml = 'Like what you see? Visit the ' +\n",
              "          '<a target=\"_blank\" href=https://colab.research.google.com/notebooks/data_table.ipynb>data table notebook</a>'\n",
              "          + ' to learn more about interactive tables.';\n",
              "        element.innerHTML = '';\n",
              "        dataTable['output_type'] = 'display_data';\n",
              "        await google.colab.output.renderOutput(dataTable, element);\n",
              "        const docLink = document.createElement('div');\n",
              "        docLink.innerHTML = docLinkHtml;\n",
              "        element.appendChild(docLink);\n",
              "      }\n",
              "    </script>\n",
              "  </div>\n",
              "\n",
              "\n",
              "    <div id=\"df-85e0b3f0-b4ad-4618-960b-f6a10118f7ae\">\n",
              "      <button class=\"colab-df-quickchart\" onclick=\"quickchart('df-85e0b3f0-b4ad-4618-960b-f6a10118f7ae')\"\n",
              "                title=\"Suggest charts\"\n",
              "                style=\"display:none;\">\n",
              "\n",
              "<svg xmlns=\"http://www.w3.org/2000/svg\" height=\"24px\"viewBox=\"0 0 24 24\"\n",
              "     width=\"24px\">\n",
              "    <g>\n",
              "        <path d=\"M19 3H5c-1.1 0-2 .9-2 2v14c0 1.1.9 2 2 2h14c1.1 0 2-.9 2-2V5c0-1.1-.9-2-2-2zM9 17H7v-7h2v7zm4 0h-2V7h2v10zm4 0h-2v-4h2v4z\"/>\n",
              "    </g>\n",
              "</svg>\n",
              "      </button>\n",
              "\n",
              "<style>\n",
              "  .colab-df-quickchart {\n",
              "      --bg-color: #E8F0FE;\n",
              "      --fill-color: #1967D2;\n",
              "      --hover-bg-color: #E2EBFA;\n",
              "      --hover-fill-color: #174EA6;\n",
              "      --disabled-fill-color: #AAA;\n",
              "      --disabled-bg-color: #DDD;\n",
              "  }\n",
              "\n",
              "  [theme=dark] .colab-df-quickchart {\n",
              "      --bg-color: #3B4455;\n",
              "      --fill-color: #D2E3FC;\n",
              "      --hover-bg-color: #434B5C;\n",
              "      --hover-fill-color: #FFFFFF;\n",
              "      --disabled-bg-color: #3B4455;\n",
              "      --disabled-fill-color: #666;\n",
              "  }\n",
              "\n",
              "  .colab-df-quickchart {\n",
              "    background-color: var(--bg-color);\n",
              "    border: none;\n",
              "    border-radius: 50%;\n",
              "    cursor: pointer;\n",
              "    display: none;\n",
              "    fill: var(--fill-color);\n",
              "    height: 32px;\n",
              "    padding: 0;\n",
              "    width: 32px;\n",
              "  }\n",
              "\n",
              "  .colab-df-quickchart:hover {\n",
              "    background-color: var(--hover-bg-color);\n",
              "    box-shadow: 0 1px 2px rgba(60, 64, 67, 0.3), 0 1px 3px 1px rgba(60, 64, 67, 0.15);\n",
              "    fill: var(--button-hover-fill-color);\n",
              "  }\n",
              "\n",
              "  .colab-df-quickchart-complete:disabled,\n",
              "  .colab-df-quickchart-complete:disabled:hover {\n",
              "    background-color: var(--disabled-bg-color);\n",
              "    fill: var(--disabled-fill-color);\n",
              "    box-shadow: none;\n",
              "  }\n",
              "\n",
              "  .colab-df-spinner {\n",
              "    border: 2px solid var(--fill-color);\n",
              "    border-color: transparent;\n",
              "    border-bottom-color: var(--fill-color);\n",
              "    animation:\n",
              "      spin 1s steps(1) infinite;\n",
              "  }\n",
              "\n",
              "  @keyframes spin {\n",
              "    0% {\n",
              "      border-color: transparent;\n",
              "      border-bottom-color: var(--fill-color);\n",
              "      border-left-color: var(--fill-color);\n",
              "    }\n",
              "    20% {\n",
              "      border-color: transparent;\n",
              "      border-left-color: var(--fill-color);\n",
              "      border-top-color: var(--fill-color);\n",
              "    }\n",
              "    30% {\n",
              "      border-color: transparent;\n",
              "      border-left-color: var(--fill-color);\n",
              "      border-top-color: var(--fill-color);\n",
              "      border-right-color: var(--fill-color);\n",
              "    }\n",
              "    40% {\n",
              "      border-color: transparent;\n",
              "      border-right-color: var(--fill-color);\n",
              "      border-top-color: var(--fill-color);\n",
              "    }\n",
              "    60% {\n",
              "      border-color: transparent;\n",
              "      border-right-color: var(--fill-color);\n",
              "    }\n",
              "    80% {\n",
              "      border-color: transparent;\n",
              "      border-right-color: var(--fill-color);\n",
              "      border-bottom-color: var(--fill-color);\n",
              "    }\n",
              "    90% {\n",
              "      border-color: transparent;\n",
              "      border-bottom-color: var(--fill-color);\n",
              "    }\n",
              "  }\n",
              "</style>\n",
              "\n",
              "      <script>\n",
              "        async function quickchart(key) {\n",
              "          const quickchartButtonEl =\n",
              "            document.querySelector('#' + key + ' button');\n",
              "          quickchartButtonEl.disabled = true;  // To prevent multiple clicks.\n",
              "          quickchartButtonEl.classList.add('colab-df-spinner');\n",
              "          try {\n",
              "            const charts = await google.colab.kernel.invokeFunction(\n",
              "                'suggestCharts', [key], {});\n",
              "          } catch (error) {\n",
              "            console.error('Error during call to suggestCharts:', error);\n",
              "          }\n",
              "          quickchartButtonEl.classList.remove('colab-df-spinner');\n",
              "          quickchartButtonEl.classList.add('colab-df-quickchart-complete');\n",
              "        }\n",
              "        (() => {\n",
              "          let quickchartButtonEl =\n",
              "            document.querySelector('#df-85e0b3f0-b4ad-4618-960b-f6a10118f7ae button');\n",
              "          quickchartButtonEl.style.display =\n",
              "            google.colab.kernel.accessAllowed ? 'block' : 'none';\n",
              "        })();\n",
              "      </script>\n",
              "    </div>\n",
              "\n",
              "    </div>\n",
              "  </div>\n"
            ],
            "application/vnd.google.colaboratory.intrinsic+json": {
              "type": "dataframe",
              "variable_name": "concrete_df",
              "summary": "{\n  \"name\": \"concrete_df\",\n  \"rows\": 1030,\n  \"fields\": [\n    {\n      \"column\": \"Cement\",\n      \"properties\": {\n        \"dtype\": \"number\",\n        \"std\": 104.50714164287166,\n        \"min\": 102.0,\n        \"max\": 540.0,\n        \"num_unique_values\": 280,\n        \"samples\": [\n          194.68,\n          480.0,\n          145.4\n        ],\n        \"semantic_type\": \"\",\n        \"description\": \"\"\n      }\n    },\n    {\n      \"column\": \"Blast Furnace Slag\",\n      \"properties\": {\n        \"dtype\": \"number\",\n        \"std\": 86.2791036431688,\n        \"min\": 0.0,\n        \"max\": 359.4,\n        \"num_unique_values\": 187,\n        \"samples\": [\n          186.7,\n          212.0,\n          26.0\n        ],\n        \"semantic_type\": \"\",\n        \"description\": \"\"\n      }\n    },\n    {\n      \"column\": \"Fly Ash\",\n      \"properties\": {\n        \"dtype\": \"number\",\n        \"std\": 63.9964693818656,\n        \"min\": 0.0,\n        \"max\": 200.1,\n        \"num_unique_values\": 163,\n        \"samples\": [\n          81.8,\n          137.9,\n          107.5\n        ],\n        \"semantic_type\": \"\",\n        \"description\": \"\"\n      }\n    },\n    {\n      \"column\": \"Water\",\n      \"properties\": {\n        \"dtype\": \"number\",\n        \"std\": 21.35556706691148,\n        \"min\": 121.75,\n        \"max\": 247.0,\n        \"num_unique_values\": 205,\n        \"samples\": [\n          164.9,\n          181.1,\n          185.7\n        ],\n        \"semantic_type\": \"\",\n        \"description\": \"\"\n      }\n    },\n    {\n      \"column\": \"Superplasticizer\",\n      \"properties\": {\n        \"dtype\": \"number\",\n        \"std\": 5.973491650590153,\n        \"min\": 0.0,\n        \"max\": 32.2,\n        \"num_unique_values\": 155,\n        \"samples\": [\n          4.14,\n          9.8,\n          6.13\n        ],\n        \"semantic_type\": \"\",\n        \"description\": \"\"\n      }\n    },\n    {\n      \"column\": \"Coarse Aggregate\",\n      \"properties\": {\n        \"dtype\": \"number\",\n        \"std\": 77.75381809178938,\n        \"min\": 801.0,\n        \"max\": 1145.0,\n        \"num_unique_values\": 284,\n        \"samples\": [\n          852.1,\n          913.9,\n          914.0\n        ],\n        \"semantic_type\": \"\",\n        \"description\": \"\"\n      }\n    },\n    {\n      \"column\": \"Fine Aggregate\",\n      \"properties\": {\n        \"dtype\": \"number\",\n        \"std\": 80.17542739902382,\n        \"min\": 594.0,\n        \"max\": 992.6,\n        \"num_unique_values\": 304,\n        \"samples\": [\n          698.0,\n          613.0,\n          689.3\n        ],\n        \"semantic_type\": \"\",\n        \"description\": \"\"\n      }\n    },\n    {\n      \"column\": \"Age\",\n      \"properties\": {\n        \"dtype\": \"number\",\n        \"std\": 63,\n        \"min\": 1,\n        \"max\": 365,\n        \"num_unique_values\": 14,\n        \"samples\": [\n          91,\n          100,\n          28\n        ],\n        \"semantic_type\": \"\",\n        \"description\": \"\"\n      }\n    },\n    {\n      \"column\": \"Concrete compressive strength\",\n      \"properties\": {\n        \"dtype\": \"number\",\n        \"std\": 16.70567917486794,\n        \"min\": 2.331807832,\n        \"max\": 82.5992248,\n        \"num_unique_values\": 938,\n        \"samples\": [\n          33.398217439999996,\n          56.63355864,\n          25.559564796\n        ],\n        \"semantic_type\": \"\",\n        \"description\": \"\"\n      }\n    }\n  ]\n}"
            }
          },
          "metadata": {},
          "execution_count": 2
        }
      ]
    },
    {
      "cell_type": "code",
      "source": [
        "concrete_df.isna().sum()"
      ],
      "metadata": {
        "id": "38WN5nbCK4Zx",
        "colab": {
          "base_uri": "https://localhost:8080/",
          "height": 362
        },
        "outputId": "ab27a11e-9dc2-4a31-abcd-fd95cdfe2f9c"
      },
      "execution_count": null,
      "outputs": [
        {
          "output_type": "execute_result",
          "data": {
            "text/plain": [
              "Cement                           0\n",
              "Blast Furnace Slag               0\n",
              "Fly Ash                          0\n",
              "Water                            0\n",
              "Superplasticizer                 0\n",
              "Coarse Aggregate                 0\n",
              "Fine Aggregate                   0\n",
              "Age                              0\n",
              "Concrete compressive strength    0\n",
              "dtype: int64"
            ],
            "text/html": [
              "<div>\n",
              "<style scoped>\n",
              "    .dataframe tbody tr th:only-of-type {\n",
              "        vertical-align: middle;\n",
              "    }\n",
              "\n",
              "    .dataframe tbody tr th {\n",
              "        vertical-align: top;\n",
              "    }\n",
              "\n",
              "    .dataframe thead th {\n",
              "        text-align: right;\n",
              "    }\n",
              "</style>\n",
              "<table border=\"1\" class=\"dataframe\">\n",
              "  <thead>\n",
              "    <tr style=\"text-align: right;\">\n",
              "      <th></th>\n",
              "      <th>0</th>\n",
              "    </tr>\n",
              "  </thead>\n",
              "  <tbody>\n",
              "    <tr>\n",
              "      <th>Cement</th>\n",
              "      <td>0</td>\n",
              "    </tr>\n",
              "    <tr>\n",
              "      <th>Blast Furnace Slag</th>\n",
              "      <td>0</td>\n",
              "    </tr>\n",
              "    <tr>\n",
              "      <th>Fly Ash</th>\n",
              "      <td>0</td>\n",
              "    </tr>\n",
              "    <tr>\n",
              "      <th>Water</th>\n",
              "      <td>0</td>\n",
              "    </tr>\n",
              "    <tr>\n",
              "      <th>Superplasticizer</th>\n",
              "      <td>0</td>\n",
              "    </tr>\n",
              "    <tr>\n",
              "      <th>Coarse Aggregate</th>\n",
              "      <td>0</td>\n",
              "    </tr>\n",
              "    <tr>\n",
              "      <th>Fine Aggregate</th>\n",
              "      <td>0</td>\n",
              "    </tr>\n",
              "    <tr>\n",
              "      <th>Age</th>\n",
              "      <td>0</td>\n",
              "    </tr>\n",
              "    <tr>\n",
              "      <th>Concrete compressive strength</th>\n",
              "      <td>0</td>\n",
              "    </tr>\n",
              "  </tbody>\n",
              "</table>\n",
              "</div><br><label><b>dtype:</b> int64</label>"
            ]
          },
          "metadata": {},
          "execution_count": 3
        }
      ]
    },
    {
      "cell_type": "markdown",
      "source": [
        "# Train Test Split"
      ],
      "metadata": {
        "id": "kteL6CXRZ2Tx"
      }
    },
    {
      "cell_type": "code",
      "source": [
        "concrete_df_test = concrete_df.iloc[501:631]\n",
        "print(f\"test sample size: {len(concrete_df_test)}\", concrete_df_test.head(), '\\n\\n')\n",
        "concrete_df_train = concrete_df.drop(concrete_df_test.index)\n",
        "print(f\"train sample size: {len(concrete_df_train)}\", concrete_df_train.head())"
      ],
      "metadata": {
        "id": "X6rCWrAuMbJ9",
        "colab": {
          "base_uri": "https://localhost:8080/"
        },
        "outputId": "1d9977a9-3bd7-41b4-8982-96d52d3a7896"
      },
      "execution_count": null,
      "outputs": [
        {
          "output_type": "stream",
          "name": "stdout",
          "text": [
            "test sample size: 130      Cement  Blast Furnace Slag  Fly Ash  Water  Superplasticizer  \\\n",
            "501   491.0                26.0    123.0  210.0              3.93   \n",
            "502   491.0                26.0    123.0  210.0              3.93   \n",
            "503   491.0                26.0    123.0  210.0              3.93   \n",
            "504   491.0                26.0    123.0  201.0              3.93   \n",
            "505   491.0                26.0    123.0  201.0              3.93   \n",
            "\n",
            "     Coarse Aggregate  Fine Aggregate  Age  Concrete compressive strength  \n",
            "501             882.0           699.0    3                      25.609109  \n",
            "502             882.0           699.0    7                      33.488834  \n",
            "503             882.0           699.0   56                      59.590426  \n",
            "504             822.0           699.0    3                      29.548971  \n",
            "505             822.0           699.0    7                      37.921180   \n",
            "\n",
            "\n",
            "train sample size: 900    Cement  Blast Furnace Slag  Fly Ash  Water  Superplasticizer  \\\n",
            "0   540.0                 0.0      0.0  162.0               2.5   \n",
            "1   540.0                 0.0      0.0  162.0               2.5   \n",
            "2   332.5               142.5      0.0  228.0               0.0   \n",
            "3   332.5               142.5      0.0  228.0               0.0   \n",
            "4   198.6               132.4      0.0  192.0               0.0   \n",
            "\n",
            "   Coarse Aggregate  Fine Aggregate  Age  Concrete compressive strength  \n",
            "0            1040.0           676.0   28                      79.986111  \n",
            "1            1055.0           676.0   28                      61.887366  \n",
            "2             932.0           594.0  270                      40.269535  \n",
            "3             932.0           594.0  365                      41.052780  \n",
            "4             978.4           825.5  360                      44.296075  \n"
          ]
        }
      ]
    },
    {
      "cell_type": "code",
      "source": [
        "predictors_train = concrete_df_train.drop(['Concrete compressive strength'], axis=1)\n",
        "predictors_test = concrete_df_test.drop(['Concrete compressive strength'], axis=1)\n",
        "\n",
        "targets_train = concrete_df_train['Concrete compressive strength']\n",
        "targets_test = concrete_df_test['Concrete compressive strength']\n",
        "\n",
        "print(f\"observed targets median: {concrete_df_test['Concrete compressive strength'].median()}\")\n",
        "print(predictors_train.max(), predictors_train.min())"
      ],
      "metadata": {
        "id": "qVdldRv67Z-d",
        "colab": {
          "base_uri": "https://localhost:8080/"
        },
        "outputId": "ca3c159c-b4f3-49ba-cc03-7fe8e4aa55b0"
      },
      "execution_count": null,
      "outputs": [
        {
          "output_type": "stream",
          "name": "stdout",
          "text": [
            "observed targets median: 25.319627148\n",
            "Cement                 540.0\n",
            "Blast Furnace Slag     305.3\n",
            "Fly Ash                200.1\n",
            "Water                  247.0\n",
            "Superplasticizer        32.2\n",
            "Coarse Aggregate      1145.0\n",
            "Fine Aggregate         992.6\n",
            "Age                    365.0\n",
            "dtype: float64 Cement                102.00\n",
            "Blast Furnace Slag      0.00\n",
            "Fly Ash                 0.00\n",
            "Water                 121.75\n",
            "Superplasticizer        0.00\n",
            "Coarse Aggregate      801.00\n",
            "Fine Aggregate        594.00\n",
            "Age                     1.00\n",
            "dtype: float64\n"
          ]
        }
      ]
    },
    {
      "cell_type": "markdown",
      "source": [
        "# Standarize (MinMax)"
      ],
      "metadata": {
        "id": "ZII7VHGCZ7-z"
      }
    },
    {
      "cell_type": "code",
      "source": [
        "def norm_data(df, train_df=None):\n",
        "  if train_df is not None:\n",
        "    return (df - train_df.min()) / (train_df.max() - train_df.min())\n",
        "  else:\n",
        "    return (df - df.min()) / (df.max() - df.min()).replace(0, 1)"
      ],
      "metadata": {
        "id": "e1fP2SDm52HF"
      },
      "execution_count": null,
      "outputs": []
    },
    {
      "cell_type": "code",
      "source": [
        "stand_predictors_train = norm_data(predictors_train)\n",
        "#scale test set using train stats\n",
        "stand_predictors_test = norm_data(predictors_test, train_df=predictors_train)\n",
        "print(stand_predictors_train.max(), stand_predictors_train.min())\n",
        "print(stand_predictors_test.max(), stand_predictors_test.min())\n",
        "print(\"\\nTrain data Median:\")\n",
        "print(stand_predictors_train.median())"
      ],
      "metadata": {
        "id": "9WX7r8r_6xxZ",
        "colab": {
          "base_uri": "https://localhost:8080/"
        },
        "outputId": "945acb16-b986-41a4-a43c-6deb32b8ad95"
      },
      "execution_count": null,
      "outputs": [
        {
          "output_type": "stream",
          "name": "stdout",
          "text": [
            "Cement                1.0\n",
            "Blast Furnace Slag    1.0\n",
            "Fly Ash               1.0\n",
            "Water                 1.0\n",
            "Superplasticizer      1.0\n",
            "Coarse Aggregate      1.0\n",
            "Fine Aggregate        1.0\n",
            "Age                   1.0\n",
            "dtype: float64 Cement                0.0\n",
            "Blast Furnace Slag    0.0\n",
            "Fly Ash               0.0\n",
            "Water                 0.0\n",
            "Superplasticizer      0.0\n",
            "Coarse Aggregate      0.0\n",
            "Fine Aggregate        0.0\n",
            "Age                   0.0\n",
            "dtype: float64\n",
            "Cement                0.888128\n",
            "Blast Furnace Slag    1.177203\n",
            "Fly Ash               0.704648\n",
            "Water                 0.768463\n",
            "Superplasticizer      0.338820\n",
            "Coarse Aggregate      0.941860\n",
            "Fine Aggregate        0.880582\n",
            "Age                   1.000000\n",
            "dtype: float64 Cement                0.076941\n",
            "Blast Furnace Slag    0.000000\n",
            "Fly Ash               0.000000\n",
            "Water                 0.257485\n",
            "Superplasticizer      0.000000\n",
            "Coarse Aggregate      0.061047\n",
            "Fine Aggregate        0.176367\n",
            "Age                   0.005495\n",
            "dtype: float64\n",
            "\n",
            "Train data Median:\n",
            "Cement                0.371575\n",
            "Blast Furnace Slag    0.137832\n",
            "Fly Ash               0.000000\n",
            "Water                 0.478962\n",
            "Superplasticizer      0.231056\n",
            "Coarse Aggregate      0.482791\n",
            "Fine Aggregate        0.462745\n",
            "Age                   0.074176\n",
            "dtype: float64\n"
          ]
        }
      ]
    },
    {
      "cell_type": "code",
      "source": [
        "def mse_loss(residual):\n",
        "  return np.mean(np.square(residual))\n",
        "\n",
        "def r_squared(residual, y):\n",
        "  return 1-(mse_loss(residual)/np.var(y))\n",
        "\n",
        "def linear_regression(x_train: np.ndarray, y_train: np.ndarray, x_test: np.ndarray, y_test: np.ndarray, lr: float, iter: int):\n",
        "  if len(y_train.shape) == 1:\n",
        "    y_train = y_train.reshape(-1, 1)\n",
        "  if len(y_test.shape) == 1:\n",
        "    y_test = y_test.reshape(-1, 1)\n",
        "  if len(x_train.shape) == 1: #univariate case, need to reshape to col format\n",
        "    x_train = x_train.reshape(-1, 1)\n",
        "  if len(x_test.shape) == 1:\n",
        "    x_test = x_test.reshape(-1, 1)\n",
        "\n",
        "\n",
        "  w = np.random.rand(x_train.shape[1]).reshape(-1, 1)\n",
        "  b = np.random.rand(1)[0] #bias should be scalar not an arry\n",
        "  is_multi_variate = True if x_train.shape[1] > 1 else False\n",
        "  print(f\"performing multi variate regression: {is_multi_variate}\")\n",
        "\n",
        "  for i in range(iter):\n",
        "    y_train_pred = np.dot(x_train, w) + b\n",
        "    residual_train = y_train - y_train_pred\n",
        "\n",
        "    w = w - lr * (np.dot(x_train.T, residual_train)/x_train.shape[0]) * -2.0\n",
        "    b = b - lr * np.mean(residual_train) * -2.0\n",
        "\n",
        "    train_loss = mse_loss(residual_train)\n",
        "    train_r2 = r_squared(residual_train, y_train)\n",
        "    ###\n",
        "    y_test_pred = np.dot(x_test, w) + b\n",
        "    residual_test = y_test - y_test_pred\n",
        "\n",
        "    test_loss = mse_loss(residual_test)\n",
        "    test_r2 = r_squared(residual_test, y_test)\n",
        "\n",
        "    if i % 1000 == 0:\n",
        "      print(f\"iter: {i} mse train/test loss: {train_loss}/{test_loss}, r-squared train/test: {train_r2}/{test_r2}, bias: {b}\")\n",
        "\n",
        "  return w, b"
      ],
      "metadata": {
        "id": "xpWdt71V6z05"
      },
      "execution_count": null,
      "outputs": []
    },
    {
      "cell_type": "code",
      "source": [
        "cement_train_stand = stand_predictors_train['Cement'].values\n",
        "cement_test_stand = stand_predictors_test['Cement'].values\n",
        "w_cement, b_cement = linear_regression(cement_train_stand, targets_train.values, cement_test_stand, targets_test.values, 1e-4, 999999)\n",
        "print(f\"w and b for cement predictor: {w_cement}, {b_cement}\")\n"
      ],
      "metadata": {
        "id": "ousEW4AtClhG"
      },
      "execution_count": null,
      "outputs": []
    },
    {
      "cell_type": "code",
      "source": [
        "slag_train_stand = stand_predictors_train['Blast Furnace Slag'].values\n",
        "slag_test_stand = stand_predictors_test['Blast Furnace Slag'].values\n",
        "w_slag, b_slag = linear_regression(slag_train_stand, targets_train.values, slag_test_stand, targets_test.values, 0.00001, 999999)\n",
        "print(f\"w and b for Slag predictor: {w_slag}, {b_slag}\")\n"
      ],
      "metadata": {
        "id": "EpNz8HsfKi07"
      },
      "execution_count": null,
      "outputs": []
    },
    {
      "cell_type": "code",
      "source": [
        "ash_train_stand = stand_predictors_train['Fly Ash'].values\n",
        "ash_test_stand = stand_predictors_test['Fly Ash'].values\n",
        "w_ash, b_ash = linear_regression(ash_train_stand, targets_train.values, ash_test_stand, targets_test.values, 0.0001, 299999)\n",
        "print(f\"w and b for Ash predictor: {w_ash}, {b_ash}\")\n"
      ],
      "metadata": {
        "id": "uSXtHFBrWWfA"
      },
      "execution_count": null,
      "outputs": []
    },
    {
      "cell_type": "code",
      "source": [
        "water_train_stand = stand_predictors_train['Water'].values\n",
        "water_test_stand = stand_predictors_test['Water'].values\n",
        "w_water, b_water = linear_regression(water_train_stand, targets_train.values, water_test_stand, targets_test.values, 0.0001, 299999)\n",
        "print(f\"w and b for Water predictor: {w_water}, {b_water}\")\n"
      ],
      "metadata": {
        "id": "UEzUCzHjc0Tv"
      },
      "execution_count": null,
      "outputs": []
    },
    {
      "cell_type": "code",
      "source": [
        "superplasticizer_train_stand = stand_predictors_train['Superplasticizer'].values\n",
        "superplasticizer_test_stand = stand_predictors_test['Superplasticizer'].values\n",
        "w_superplasticizer, b_superplasticizer = linear_regression(superplasticizer_train_stand, targets_train.values, superplasticizer_test_stand, targets_test.values, 0.0001, 299999)\n",
        "print(f\"w and b for superplasticizer predictor: {w_superplasticizer}, {b_superplasticizer}\")\n"
      ],
      "metadata": {
        "id": "CiUePqk9dbBA"
      },
      "execution_count": null,
      "outputs": []
    },
    {
      "cell_type": "code",
      "source": [
        "coagg_train_stand = stand_predictors_train['Coarse Aggregate'].values\n",
        "coagg_test_stand = stand_predictors_test['Coarse Aggregate'].values\n",
        "w_coagg, b_coagg = linear_regression(coagg_train_stand, targets_train.values, coagg_test_stand, targets_test.values, 0.0001, 299999)\n",
        "print(f\"w and b for coagg predictor: {w_coagg}, {b_coagg}\")\n"
      ],
      "metadata": {
        "id": "scWv6Zbqdt6v"
      },
      "execution_count": null,
      "outputs": []
    },
    {
      "cell_type": "code",
      "source": [
        "fiagg_train_stand = stand_predictors_train['Fine Aggregate'].values\n",
        "fiagg_test_stand = stand_predictors_test['Fine Aggregate'].values\n",
        "w_fiagg, b_fiagg = linear_regression(fiagg_train_stand, targets_train.values, fiagg_test_stand, targets_test.values, 0.0001, 299999)\n",
        "print(f\"w and b for fiagg predictor: {w_fiagg}, {b_fiagg}\")\n"
      ],
      "metadata": {
        "id": "wRt2HukweC5F"
      },
      "execution_count": null,
      "outputs": []
    },
    {
      "cell_type": "code",
      "source": [
        "age_train_stand = stand_predictors_train['Age'].values\n",
        "age_test_stand = stand_predictors_test['Age'].values\n",
        "w_age, b_age = linear_regression(age_train_stand, targets_train.values, age_test_stand, targets_test.values, 0.0001, 299999)\n",
        "print(f\"w and b for age predictor: {w_age}, {b_age}\")\n"
      ],
      "metadata": {
        "id": "pGOJqYRYeSlk"
      },
      "execution_count": null,
      "outputs": []
    },
    {
      "cell_type": "markdown",
      "source": [
        "Un standardized"
      ],
      "metadata": {
        "id": "_egtyGnifEKP"
      }
    },
    {
      "cell_type": "code",
      "source": [
        "cement_train_unstand = predictors_train['Cement'].values\n",
        "cement_test_unstand = predictors_test['Cement'].values\n",
        "w_cement_unstand, b_cement_unstand = linear_regression(cement_train_unstand, targets_train.values, cement_test_unstand, targets_test.values, 1e-4, 399999)\n",
        "print(f\"w and b for cement predictor: {w_cement_unstand}, {b_cement_unstand}\")\n",
        "\n"
      ],
      "metadata": {
        "id": "lBkcunghGv_c"
      },
      "execution_count": null,
      "outputs": []
    },
    {
      "cell_type": "code",
      "source": [
        "cement_train_unstand = predictors_train['Blast Furnace Slag'].values\n",
        "cement_test_unstand = predictors_test['Blast Furnace Slag'].values\n",
        "w_cement_unstand, b_cement_unstand = linear_regression(cement_train_unstand, targets_train.values, cement_test_unstand, targets_test.values, 1e-5, 399999)\n",
        "print(f\"w and b for Slag predictor: {w_cement_unstand}, {b_cement_unstand}\")\n"
      ],
      "metadata": {
        "id": "Xe7M9zTtfFZ7"
      },
      "execution_count": null,
      "outputs": []
    },
    {
      "cell_type": "code",
      "source": [
        "ash_train_unstand = predictors_train['Fly Ash'].values\n",
        "ash_test_unstand = predictors_test['Fly Ash'].values\n",
        "w_ash_unstand, b_ash_unstand = linear_regression(ash_train_unstand, targets_train.values, ash_test_unstand, targets_test.values, 0.0001, 399999)\n",
        "print(f\"w and b for Ash predictor: {w_ash_unstand}, {b_ash_unstand}\")\n"
      ],
      "metadata": {
        "id": "Nwa3E8VUfn9n"
      },
      "execution_count": null,
      "outputs": []
    },
    {
      "cell_type": "code",
      "metadata": {
        "id": "7ea9c4de"
      },
      "source": [
        "water_train_unstand = predictors_train['Water'].values\n",
        "water_test_unstand = predictors_test['Water'].values\n",
        "w_water_unstand, b_water_unstand = linear_regression(water_train_unstand, targets_train.values, water_test_unstand, targets_test.values, 1e-5, 399999)\n",
        "print(f\"w and b for Water predictor: {w_water_unstand}, {b_water_unstand}\")\n"
      ],
      "execution_count": null,
      "outputs": []
    },
    {
      "cell_type": "code",
      "metadata": {
        "id": "9b24209f"
      },
      "source": [
        "superplasticizer_train_unstand = predictors_train['Superplasticizer'].values\n",
        "superplasticizer_test_unstand = predictors_test['Superplasticizer'].values\n",
        "w_superplasticizer_unstand, b_superplasticizer_unstand = linear_regression(superplasticizer_train_unstand, targets_train.values, superplasticizer_test_unstand, targets_test.values, 0.0001, 399999)\n",
        "print(f\"w and b for Superplasticizer predictor: {w_superplasticizer_unstand}, {b_superplasticizer_unstand}\")\n"
      ],
      "execution_count": null,
      "outputs": []
    },
    {
      "cell_type": "code",
      "metadata": {
        "id": "f742d040"
      },
      "source": [
        "coagg_train_unstand = predictors_train['Coarse Aggregate'].values\n",
        "coagg_test_unstand = predictors_test['Coarse Aggregate'].values\n",
        "w_coagg_unstand, b_coagg_unstand = linear_regression(coagg_train_unstand, targets_train.values, coagg_test_unstand, targets_test.values, 1e-6, 299999)\n",
        "print(f\"w and b for Coarse Aggregate predictor: {w_coagg_unstand}, {b_coagg_unstand}\")\n"
      ],
      "execution_count": null,
      "outputs": []
    },
    {
      "cell_type": "code",
      "metadata": {
        "id": "98ab0f79"
      },
      "source": [
        "fiagg_train_unstand = predictors_train['Fine Aggregate'].values\n",
        "fiagg_test_unstand = predictors_test['Fine Aggregate'].values\n",
        "w_fiagg_unstand, b_fiagg_unstand = linear_regression(fiagg_train_unstand, targets_train.values, fiagg_test_unstand, targets_test.values, 1e-6, 299999)\n",
        "print(f\"w and b for Fine Aggregate predictor: {w_fiagg_unstand}, {b_fiagg_unstand}\")\n"
      ],
      "execution_count": null,
      "outputs": []
    },
    {
      "cell_type": "code",
      "metadata": {
        "id": "9820297a"
      },
      "source": [
        "age_train_unstand = predictors_train['Age'].values\n",
        "age_test_unstand = predictors_test['Age'].values\n",
        "w_age_unstand, b_age_unstand = linear_regression(age_train_unstand, targets_train.values, age_test_unstand, targets_test.values, 1e-5, 299999)\n",
        "print(f\"w and b for Age predictor: {w_age_unstand}, {b_age_unstand}\")\n"
      ],
      "execution_count": null,
      "outputs": []
    },
    {
      "cell_type": "markdown",
      "source": [
        "# Q2 Multivariate Linear Models\n",
        "Grading comment:\n",
        "Update your gradient descent algorithm as needed to optimize multivariate linear regression models.\n",
        "\n",
        "Question 2.1 Code test 1\n",
        "Q2.1 Code test 1\n",
        "0.5 Points\n",
        "Grading comment:\n",
        "Start by setting all parameters to equal 1.\n",
        "\n",
        "Update the model with a single sample:\n",
        "\n",
        "x = [3, 4, 5], y = 4\n",
        "\n",
        "Use alpha = 0.1"
      ],
      "metadata": {
        "id": "7k-1oJPma4m1"
      }
    },
    {
      "cell_type": "code",
      "source": [
        "def mse_loss(residual):\n",
        "  return np.mean(np.square(residual))\n",
        "\n",
        "def r_squared(residual, y):\n",
        "  return 1 - (mse_loss(residual) / np.var(y))\n",
        "\n",
        "def linear_regression(x_train: np.ndarray, y_train: np.ndarray, x_test: np.ndarray, y_test: np.ndarray, lr: float, iter: int, w_init=None, b_init=None):\n",
        "  mse_list_tr = []\n",
        "  r2_list_tr = []\n",
        "  mse_list_te = []\n",
        "  r2_list_te = []\n",
        "\n",
        "  if len(y_train.shape) == 1:\n",
        "    y_train = y_train.reshape(-1, 1)\n",
        "  if len(y_test.shape) == 1:\n",
        "    y_test = y_test.reshape(-1, 1)\n",
        "  if len(x_train.shape) == 1:  # univariate case\n",
        "    x_train = x_train.reshape(-1, 1)\n",
        "  if len(x_test.shape) == 1:\n",
        "    x_test = x_test.reshape(-1, 1)\n",
        "\n",
        "  # Changed initialization part to set manually\n",
        "  if w_init is not None:\n",
        "    w = np.array(w_init, dtype=float).reshape(-1, 1)\n",
        "  else:\n",
        "    w = np.random.rand(x_train.shape[1]).reshape(-1, 1)\n",
        "\n",
        "  if b_init is not None:\n",
        "    b = float(b_init)\n",
        "  else:\n",
        "    b = np.random.rand(1)[0]\n",
        "\n",
        "  is_multi_variate = x_train.shape[1] > 1\n",
        "  print(f\"performing multi variate regression: {is_multi_variate}\")\n",
        "\n",
        "  for i in range(iter):\n",
        "    y_train_pred = np.dot(x_train, w) + b\n",
        "    residual_train = y_train - y_train_pred\n",
        "\n",
        "    w = w - lr * (np.dot(x_train.T, residual_train)/x_train.shape[0]) * -2.0\n",
        "    b = b - lr * np.mean(residual_train) * -2.0\n",
        "\n",
        "    if i % 1000 == 0:\n",
        "      train_loss = mse_loss(residual_train)\n",
        "      train_r2 = r_squared(residual_train, y_train)\n",
        "      y_test_pred = np.dot(x_test, w) + b\n",
        "      residual_test = y_test - y_test_pred\n",
        "      test_loss = mse_loss(residual_test)\n",
        "      test_r2 = r_squared(residual_test, y_test)\n",
        "\n",
        "      mse_list_tr.append(train_loss)\n",
        "      r2_list_tr.append(train_r2)\n",
        "      mse_list_te.append(test_loss)\n",
        "      r2_list_te.append(test_r2)\n",
        "      print(f\"iter: {i} mse train/test loss: {train_loss}/{test_loss}, r-squared train/test: {train_r2}/{test_r2}, bias: {b}\")\n",
        "  print(f\"Final mse train/test loss: {train_loss}/{test_loss}, r-squared train/test: {train_r2}/{test_r2}, bias: {b}\")\n",
        "\n",
        "\n",
        "  return w, b, (mse_list_tr, r2_list_tr, mse_list_te, r2_list_te)\n"
      ],
      "metadata": {
        "id": "SVWDaZnyGG4C"
      },
      "execution_count": null,
      "outputs": []
    },
    {
      "cell_type": "code",
      "source": [
        "x = np.array([[3, 4, 5]], dtype=float)\n",
        "y = np.array([[4]], dtype=float)\n",
        "\n",
        "w, b, _ = linear_regression(x, y, x, y, lr=0.1, iter=1, w_init=[1, 1, 1], b_init=1)\n",
        "print(\"new w:\", w, \"new b:\", b)"
      ],
      "metadata": {
        "id": "CC85jGUjfEJy",
        "colab": {
          "base_uri": "https://localhost:8080/"
        },
        "outputId": "490790f4-d786-416f-81d4-e582116daad2"
      },
      "execution_count": null,
      "outputs": [
        {
          "output_type": "stream",
          "name": "stdout",
          "text": [
            "performing multi variate regression: True\n",
            "iter: 0 mse train/test loss: 81.0/6855.839999999999, r-squared train/test: -inf/-inf, bias: -0.8\n",
            "Final mse train/test loss: 81.0/6855.839999999999, r-squared train/test: -inf/-inf, bias: -0.8\n",
            "new w: [[-4.4]\n",
            " [-6.2]\n",
            " [-8. ]] new b: -0.8\n"
          ]
        },
        {
          "output_type": "stream",
          "name": "stderr",
          "text": [
            "/tmp/ipython-input-960583513.py:5: RuntimeWarning: divide by zero encountered in scalar divide\n",
            "  return 1 - (mse_loss(residual) / np.var(y))\n"
          ]
        }
      ]
    },
    {
      "cell_type": "code",
      "source": [
        "X = np.array([\n",
        "    [3, 4, 4],\n",
        "    [4, 2, 1],\n",
        "    [10, 2, 5],\n",
        "    [3, 4, 5],\n",
        "    [11, 1, 1]\n",
        "], dtype=float)\n",
        "\n",
        "y = np.array([[3], [2], [8], [4], [5]], dtype=float)\n",
        "\n",
        "w, b, _ = linear_regression(X, y, X, y, lr=0.1, iter=1, w_init=[1,1,1], b_init=1)\n",
        "\n",
        "print(\"Updated weights:\", w)\n",
        "print(\"Updated bias:\", b)"
      ],
      "metadata": {
        "id": "VTe7gESch7pj",
        "colab": {
          "base_uri": "https://localhost:8080/"
        },
        "outputId": "5c122c64-c2e7-4ca8-f7eb-19b3c89cb591"
      },
      "execution_count": null,
      "outputs": [
        {
          "output_type": "stream",
          "name": "stdout",
          "text": [
            "performing multi variate regression: True\n",
            "iter: 0 mse train/test loss: 75.8/9670.28864, r-squared train/test: -16.877358490566035/-2279.728452830189, bias: -0.72\n",
            "Final mse train/test loss: 75.8/9670.28864, r-squared train/test: -16.877358490566035/-2279.728452830189, bias: -0.72\n",
            "Updated weights: [[-10.08]\n",
            " [ -3.52]\n",
            " [ -4.84]]\n",
            "Updated bias: -0.72\n"
          ]
        }
      ]
    },
    {
      "cell_type": "markdown",
      "source": [
        "# Q2.3 Set 1\n",
        "Grading comment:\n",
        "Using your gradient descent code, optimize a multivariate linear regression model that uses all 8 predictor variables.\n",
        "\n",
        "Use the normalized/standardized values for the predictors, and raw values for the response variable.\n",
        "\n",
        "Play around with hyperparameter values until you get a positive VE."
      ],
      "metadata": {
        "id": "WD1BG4Vcim7a"
      }
    },
    {
      "cell_type": "markdown",
      "source": [
        "## Standarized"
      ],
      "metadata": {
        "id": "1COI9dKyqbqf"
      }
    },
    {
      "cell_type": "code",
      "source": [
        "stand_predictors_train = norm_data(predictors_train)\n",
        "stand_predictors_test = norm_data(predictors_test, train_df=predictors_train)"
      ],
      "metadata": {
        "id": "wzRe5qB9jBVO"
      },
      "execution_count": null,
      "outputs": []
    },
    {
      "cell_type": "code",
      "source": [
        "w_all, b_all, loss_lists = linear_regression(stand_predictors_train.values, targets_train.values, stand_predictors_test.values, targets_test.values, lr=1e-3, iter=40000)\n",
        "print(\"Final weights:\", w_all)\n",
        "print(\"Final bias:\", b_all)"
      ],
      "metadata": {
        "id": "rqNCcWrcip1T",
        "colab": {
          "base_uri": "https://localhost:8080/"
        },
        "outputId": "f916a210-913a-4697-d85c-fbbe87e9a87a"
      },
      "execution_count": null,
      "outputs": [
        {
          "output_type": "stream",
          "name": "stdout",
          "text": [
            "performing multi variate regression: True\n",
            "iter: 0 mse train/test loss: 1517.2994960327208/894.7995647344866, r-squared train/test: -4.476118098795355/-3.1093232149314876, bias: 0.671607222664964\n",
            "iter: 1000 mse train/test loss: 238.4522981279556/258.854583867646, r-squared train/test: 0.13939670520414926/-0.18877700962492505, bias: 17.49357904525189\n",
            "iter: 2000 mse train/test loss: 214.5494768602042/254.347212571241, r-squared train/test: 0.22566488923693506/-0.16807712750984027, bias: 17.657952101108783\n",
            "iter: 3000 mse train/test loss: 196.95284297356608/241.2592336548103, r-squared train/test: 0.289173277367591/-0.10797122478314258, bias: 17.52972361180247\n",
            "iter: 4000 mse train/test loss: 183.42700185177142/228.68035369476763, r-squared train/test: 0.33798968016885633/-0.05020333410141431, bias: 17.38772252600986\n",
            "iter: 5000 mse train/test loss: 172.76908040238843/216.91385657757263, r-squared train/test: 0.37645541267394833/0.0038337281276685786, bias: 17.240900528240985\n",
            "iter: 6000 mse train/test loss: 164.1929738544333/206.05280050684726, r-squared train/test: 0.4074076224435097/0.05371259665768158, bias: 17.092487041428644\n",
            "iter: 7000 mse train/test loss: 157.170295494463/196.1338175645456, r-squared train/test: 0.43275332127858157/0.09926504044480433, bias: 16.944712617947832\n",
            "iter: 8000 mse train/test loss: 151.33554227919925/187.1518228020255, r-squared train/test: 0.45381165403862966/0.14051441186684932, bias: 16.799125309026582\n",
            "iter: 9000 mse train/test loss: 146.42868128910808/179.07263511606166, r-squared train/test: 0.4715211111012395/0.1776176859677605, bias: 16.656772856657817\n",
            "iter: 10000 mse train/test loss: 142.25977714497634/171.84363842897517, r-squared train/test: 0.48656719231033163/0.21081649950956427, bias: 16.51833728024121\n",
            "iter: 11000 mse train/test loss: 138.68675138685/165.40197903118494, r-squared train/test: 0.49946267607783934/0.2403995050778288, bias: 16.384234780547477\n",
            "iter: 12000 mse train/test loss: 135.60107633764272/159.68046976512045, r-squared train/test: 0.5105992519668758/0.2666752564059611, bias: 16.254689771107618\n",
            "iter: 13000 mse train/test loss: 132.91834394626514/154.61161500738032, r-squared train/test: 0.520281558881931/0.289953723841602, bias: 16.1297896158459\n",
            "iter: 14000 mse train/test loss: 130.57188844678632/150.13020167924762, r-squared train/test: 0.5287502016662404/0.31053439525762305, bias: 16.009524993502907\n",
            "iter: 15000 mse train/test loss: 128.50836397274287/146.17484776813217, r-squared train/test: 0.5361977120286725/0.3286991645431778, bias: 15.893819567085504\n",
            "iter: 16000 mse train/test loss: 126.68460329802977/142.688821630985, r-squared train/test: 0.5427798857292379/0.3447085689928633, bias: 15.782551706083254\n",
            "iter: 17000 mse train/test loss: 125.06533672457005/139.6203691619378, r-squared train/test: 0.5486240153904434/0.3588002868053446, bias: 15.675570312538795\n",
            "iter: 18000 mse train/test loss: 123.62150256066228/136.92272150919047, r-squared train/test: 0.5538349881860634/0.3711891016439274, bias: 15.57270628072749\n",
            "iter: 19000 mse train/test loss: 122.3289739738959/134.5539054462188, r-squared train/test: 0.5584998807835424/0.38206777349750665, bias: 15.473780730284233\n",
            "iter: 20000 mse train/test loss: 121.16758520619705/132.47644053348483, r-squared train/test: 0.5626914738521241/0.39160842945059315, bias: 15.378610861153012\n",
            "iter: 21000 mse train/test loss: 120.12037717366836/130.65697958532843, r-squared train/test: 0.566470974784622/0.3999642148215202, bias: 15.287014061012814\n",
            "iter: 22000 mse train/test loss: 119.17300655784648/129.0659293383848, r-squared train/test: 0.5698901503588142/0.4072710352241744, bias: 15.198810733320624\n",
            "iter: 23000 mse train/test loss: 118.31327851387854/127.6770745609124, r-squared train/test: 0.5729930132503689/0.41364928282751257, bias: 15.11382619290321\n",
            "iter: 24000 mse train/test loss: 117.5307740176573/126.46721951058434, r-squared train/test: 0.5758171669822789/0.419205482943111, bias: 15.031891885717512\n",
            "iter: 25000 mse train/test loss: 116.81655044750028/125.41585439247311, r-squared train/test: 0.5783948865619333/0.42403382580054827, bias: 14.95284612217528\n",
            "iter: 26000 mse train/test loss: 116.1628993660358/124.50485036540121, r-squared train/test: 0.580753992675699/0.4282175672158153, bias: 14.876534463452463\n",
            "iter: 27000 mse train/test loss: 115.56314934464727/123.71818402573271, r-squared train/test: 0.5829185633194423/0.43183029388602123, bias: 14.80280986309932\n",
            "iter: 28000 mse train/test loss: 115.01150451599332/123.04169068810982, r-squared train/test: 0.5849095164820824/0.43493705643553715, bias: 14.731532638763786\n",
            "iter: 29000 mse train/test loss: 114.50291165397601/122.46284484965814, r-squared train/test: 0.586745089870127/0.43759537762339085, bias: 14.662570328488423\n",
            "iter: 30000 mse train/test loss: 114.03295017068925/121.97056573687142, r-squared train/test: 0.5884412379220393/0.4398561453596834, bias: 14.595797471012467\n",
            "iter: 31000 mse train/test loss: 113.59774062816545/121.55504563442604, r-squared train/test: 0.5900119620004527/0.4417644010971079, bias: 14.531095338438766\n",
            "iter: 32000 mse train/test loss: 113.19386828884565/121.2075986751262, r-squared train/test: 0.5914695863078058/0.4433600342557269, bias: 14.468351641491576\n",
            "iter: 33000 mse train/test loss: 112.81831894391304/120.92052785799507, r-squared train/test: 0.5928249894896782/0.4446783929358815, bias: 14.40746022163476\n",
            "iter: 34000 mse train/test loss: 112.46842481468877/120.6870082095524, r-squared train/test: 0.594087799883221/0.4457508204943067, bias: 14.348320739974518\n",
            "iter: 35000 mse train/test loss: 112.14181875723068/120.50098418059939, r-squared train/test: 0.5952665607983197/0.4466051267443757, bias: 14.290838369716576\n",
            "iter: 36000 mse train/test loss: 111.83639534237945/120.3570795576321, r-squared train/test: 0.5963688709844339/0.4472660016835258, bias: 14.234923496669053\n",
            "iter: 37000 mse train/test loss: 111.55027765397949/120.25051835232442, r-squared train/test: 0.5974015044598481/0.4477553788044365, bias: 14.180491430648644\n",
            "iter: 38000 mse train/test loss: 111.28178886291286/120.17705530726094, r-squared train/test: 0.5983705131044355/0.4480927542440507, bias: 14.12746212948696\n",
            "iter: 39000 mse train/test loss: 111.02942780615264/120.13291481752016, r-squared train/test: 0.5992813147978184/0.448295467283215, bias: 14.075759936515762\n",
            "Final mse train/test loss: 111.02942780615264/120.13291481752016, r-squared train/test: 0.5992813147978184/0.448295467283215, bias: 14.025363174102495\n",
            "Final weights: [[ 38.83852369]\n",
            " [ 21.32588279]\n",
            " [  6.5598806 ]\n",
            " [-17.62346709]\n",
            " [ 17.46539151]\n",
            " [  2.26389346]\n",
            " [ -1.74760929]\n",
            " [ 35.30414936]]\n",
            "Final bias: 14.025363174102495\n"
          ]
        }
      ]
    },
    {
      "cell_type": "code",
      "source": [
        "import matplotlib.pyplot as plt\n",
        "iter_list = [i for i in range(0, 40000, 1000)]\n",
        "plt.plot(iter_list, loss_lists[0])\n",
        "plt.plot(iter_list, loss_lists[2])\n",
        "plt.title(\"Train and Test MSE Loss\")\n",
        "plt.xlabel(\"Iteration\")\n",
        "plt.ylabel(\"MSE Loss\")\n",
        "plt.legend([\"Train\", \"Test\"])\n",
        "plt.show()"
      ],
      "metadata": {
        "colab": {
          "base_uri": "https://localhost:8080/",
          "height": 472
        },
        "id": "DW0ATOB8R_VG",
        "outputId": "b839add3-01cb-4c7c-9d9b-0614f8088925"
      },
      "execution_count": null,
      "outputs": [
        {
          "output_type": "display_data",
          "data": {
            "text/plain": [
              "<Figure size 640x480 with 1 Axes>"
            ],
            "image/png": "[encoded data removed]"
          },
          "metadata": {}
        }
      ]
    },
    {
      "cell_type": "code",
      "source": [
        "plt.plot(iter_list, loss_lists[1])\n",
        "plt.plot(iter_list, loss_lists[3])\n",
        "plt.title(\"Train and Test R2 Value\")\n",
        "plt.xlabel(\"Iteration\")\n",
        "plt.ylabel(\"R2 Value\")\n",
        "plt.legend([\"Train\", \"Test\"])\n",
        "plt.show()"
      ],
      "metadata": {
        "id": "NJo_EoCkTC7D",
        "outputId": "2635f924-ad4d-46d7-8ac9-02946284fe76",
        "colab": {
          "base_uri": "https://localhost:8080/",
          "height": 472
        }
      },
      "execution_count": null,
      "outputs": [
        {
          "output_type": "display_data",
          "data": {
            "text/plain": [
              "<Figure size 640x480 with 1 Axes>"
            ],
            "image/png": "[encoded data removed]"
          },
          "metadata": {}
        }
      ]
    },
    {
      "cell_type": "markdown",
      "source": [
        "## Raw"
      ],
      "metadata": {
        "id": "BFBooSRwqgiz"
      }
    },
    {
      "cell_type": "code",
      "source": [
        "X_train_raw = predictors_train.values\n",
        "X_test_raw = predictors_test.values\n",
        "y_train_raw = targets_train.values\n",
        "y_test_raw = targets_test.values"
      ],
      "metadata": {
        "id": "zO1sxmvZqY4n"
      },
      "execution_count": null,
      "outputs": []
    },
    {
      "cell_type": "code",
      "source": [
        "w_raw, b_raw = linear_regression(X_train_raw, y_train_raw, X_test_raw, y_test_raw,lr=1e-7, iter=40000)\n",
        "print(\"Final weights:\", w_raw)\n",
        "print(\"Final bias:\", b_raw)"
      ],
      "metadata": {
        "id": "YfLn-vMrqao_"
      },
      "execution_count": null,
      "outputs": []
    },
    {
      "cell_type": "markdown",
      "source": [
        "## Graphs for part C"
      ],
      "metadata": {
        "id": "ra337CNUZHRH"
      }
    },
    {
      "cell_type": "code",
      "source": [
        "def linear_prediction(x, w, b):\n",
        "  return np.dot(x.T,w)+b\n",
        "\n",
        "multi_var_w = w_all\n",
        "multi_var_b = b_all\n",
        "x = [0.3715,0.1378,0.0,0.4789,0.231,0.4827,0.4627,0.074]\n",
        "x = np.array(x, dtype=float).reshape(-1, 1)\n",
        "print(x.shape)"
      ],
      "metadata": {
        "id": "FcarCfneZpOU",
        "colab": {
          "base_uri": "https://localhost:8080/"
        },
        "outputId": "a0849a0f-9ef7-4b69-d3d1-621f3118481b"
      },
      "execution_count": null,
      "outputs": [
        {
          "output_type": "stream",
          "name": "stdout",
          "text": [
            "(8, 1)\n"
          ]
        }
      ]
    },
    {
      "cell_type": "code",
      "source": [
        "# Cement\n",
        "# Blast Furnace Slag    0.137832\n",
        "# Fly Ash               0.000000\n",
        "# Water                 0.478962\n",
        "# Superplasticizer      0.231056\n",
        "# Coarse Aggregate      0.482791\n",
        "# Fine Aggregate        0.462745\n",
        "# Age                   0.074176\n",
        "\n",
        "# Reshape the input to match the expected shape of the linear_prediction function\n",
        "age_vars = np.linspace(1, 360, num=10)\n",
        "supr_plast_vars = np.linspace(0, 50, num=15)\n",
        "water_vars = np.linspace(50, 400, num=15)\n",
        "cement_vars = np.linspace(100, 600, num = 10)\n",
        "train_max_vals = predictors_train.max().to_numpy()\n",
        "train_min_vals = predictors_train.min().to_numpy()\n",
        "\n",
        "pred_list = []\n",
        "var_index = 7\n",
        "\n",
        "for a_var in age_vars:\n",
        "  a_var_stand = (a_var - train_min_vals[var_index]) / (train_max_vals[var_index] - train_min_vals[var_index])\n",
        "  x[var_index] = a_var_stand\n",
        "  pred = linear_prediction(x=x, w=multi_var_w, b=multi_var_b)\n",
        "  pred = pred[0][0]\n",
        "  pred_list.append(pred)\n",
        "\n",
        "print(age_vars)\n",
        "print(pred_list)"
      ],
      "metadata": {
        "colab": {
          "base_uri": "https://localhost:8080/"
        },
        "id": "aoIpwIxagFo-",
        "outputId": "d5b92764-8dd1-420f-bc7a-775bc26d5a24"
      },
      "execution_count": null,
      "outputs": [
        {
          "output_type": "stream",
          "name": "stdout",
          "text": [
            "[  1.          40.88888889  80.77777778 120.66666667 160.55555556\n",
            " 200.44444444 240.33333333 280.22222222 320.11111111 360.        ]\n",
            "[np.float64(49.37574024879367), np.float64(53.24454049961003), np.float64(57.113340750426396), np.float64(60.98214100124276), np.float64(64.85094125205913), np.float64(68.71974150287548), np.float64(72.58854175369186), np.float64(76.4573420045082), np.float64(80.32614225532457), np.float64(84.19494250614093)]\n"
          ]
        }
      ]
    },
    {
      "cell_type": "code",
      "source": [
        "plt.plot(cement_vars, pred_list)\n",
        "plt.xlabel(\"Cement (kg in a m^3)\")\n",
        "plt.ylabel(\"Compressive Strength\")\n",
        "plt.title(\"Cement vs Compressive Strength\")\n",
        "plt.show()"
      ],
      "metadata": {
        "id": "MjwcnVg0iGUj",
        "colab": {
          "base_uri": "https://localhost:8080/",
          "height": 472
        },
        "outputId": "d5fff778-e612-4476-ab54-278950032470"
      },
      "execution_count": null,
      "outputs": [
        {
          "output_type": "display_data",
          "data": {
            "text/plain": [
              "<Figure size 640x480 with 1 Axes>"
            ],
            "image/png": "[encoded data removed]"
          },
          "metadata": {}
        }
      ]
    },
    {
      "cell_type": "code",
      "source": [
        "import matplotlib.pyplot as plt\n",
        "\n",
        "features = [\"Cement\", \"Blast Furnace Slag\", \"Fly Ash\", \"Water\", \"Superplasticizer (not significant under linear regression)\", \"Coarse Aggregate\", \"Fine Aggregate\", \"Age\"]\n",
        "coeffs = [0.1328, 0.1250, 0.1067, -0.1331, 0.1162, 0.0286, 0.0341, 0.1188]\n",
        "\n",
        "plt.barh(features, coeffs, color=['green' if c > 0 else 'red' for c in coeffs])\n",
        "plt.xlabel(\"Coefficient (Effect on Strength)\")\n",
        "plt.title(\"Feature Influence on Concrete Compressive Strength\")\n",
        "plt.gca().invert_yaxis()\n",
        "plt.show()\n"
      ],
      "metadata": {
        "colab": {
          "base_uri": "https://localhost:8080/",
          "height": 472
        },
        "id": "NqVCExY-238P",
        "outputId": "e64a9017-13cc-4b64-9d7b-5001aae88854"
      },
      "execution_count": null,
      "outputs": [
        {
          "output_type": "display_data",
          "data": {
            "text/plain": [
              "<Figure size 640x480 with 1 Axes>"
            ],
            "image/png": "[encoded data removed]"
          },
          "metadata": {}
        }
      ]
    },
    {
      "cell_type": "code",
      "source": [],
      "metadata": {
        "id": "Vnf1g9UP7y2v"
      },
      "execution_count": null,
      "outputs": []
    }
  ]
}